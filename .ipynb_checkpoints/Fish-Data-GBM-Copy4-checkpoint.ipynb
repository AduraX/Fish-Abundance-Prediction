{
 "cells": [
  {
   "cell_type": "markdown",
   "metadata": {},
   "source": [
    "# DATA ANALYSIS OF FISH ABUNDANCE: Exploratory Data Analysis (EDA)\n",
    "## Adura ABIONA, PhD (UNSW)\n",
    "### 4 May, 2017"
   ]
  },
  {
   "attachments": {
    "image.png": {
     "image/png": "[encoded data removed]"
    }
   },
   "cell_type": "markdown",
   "metadata": {},
   "source": [
    "## Introduction\n",
    "\n",
    "The catch rate or Catch per Unit of Effort (CPUE)\n",
    "\n",
    "CPUE is the catch per unit of effort over a time interval and defined as\n",
    "\n",
    "![image.png](attachment:image.png)\n",
    "\n",
    "𝑪= 𝑪𝒂𝒕𝒄𝒉(𝑲𝒈), 𝑭=𝑬𝒇𝒇𝒐𝒓𝒕 𝒐𝒗𝒆𝒓 𝒕𝒊𝒎𝒆(hours), q = Catchability and B = Population Abundance"
   ]
  },
  {
   "cell_type": "code",
   "execution_count": 1,
   "metadata": {
    "collapsed": true
   },
   "outputs": [],
   "source": [
    "import pandas as pd\n",
    "from pandas.tools.plotting import scatter_matrix\n",
    "import numpy as np\n",
    "import matplotlib.pyplot as plt  # Import pyplot for plotting\n",
    "from mpl_toolkits.mplot3d import Axes3D\n",
    "import seaborn as sns            # Seaborn, useful for graphics\n",
    "%matplotlib inline \n",
    "# JB's favorite Seaborn settings for notebooks\n",
    "rc = {'lines.linewidth': 2, \n",
    "      'axes.labelsize': 18, \n",
    "      'axes.titlesize': 18, \n",
    "      'axes.facecolor': 'DFDFE5'}\n",
    "sns.set_context('notebook', rc=rc)\n",
    "sns.set_style('darkgrid', rc=rc)\n",
    "# This Function takes as input a custom palette\n",
    "flatui = [\"#9b59b6\", \"#3498db\", \"#95a5a6\", \"#e74c3c\", \"#34495e\", \"#2ecc71\"]"
   ]
  },
  {
   "cell_type": "code",
   "execution_count": 2,
   "metadata": {},
   "outputs": [
    {
     "data": {
      "text/plain": [
       "(47851, 10)"
      ]
     },
     "execution_count": 2,
     "metadata": {},
     "output_type": "execute_result"
    }
   ],
   "source": [
    "data = pd.read_csv('fish_data2.csv')\n",
    "data.shape"
   ]
  },
  {
   "cell_type": "code",
   "execution_count": 3,
   "metadata": {},
   "outputs": [
    {
     "data": {
      "text/html": [
       "<div>\n",
       "<table border=\"1\" class=\"dataframe\">\n",
       "  <thead>\n",
       "    <tr style=\"text-align: right;\">\n",
       "      <th></th>\n",
       "      <th>Year</th>\n",
       "      <th>Month</th>\n",
       "      <th>Day</th>\n",
       "      <th>Vessel_ID</th>\n",
       "      <th>catch_kg</th>\n",
       "      <th>Long</th>\n",
       "      <th>Lat</th>\n",
       "      <th>Depth</th>\n",
       "      <th>DayNight</th>\n",
       "      <th>Effort_hr</th>\n",
       "    </tr>\n",
       "  </thead>\n",
       "  <tbody>\n",
       "    <tr>\n",
       "      <th>0</th>\n",
       "      <td>1991</td>\n",
       "      <td>2</td>\n",
       "      <td>17</td>\n",
       "      <td>1</td>\n",
       "      <td>80.0</td>\n",
       "      <td>144.50</td>\n",
       "      <td>41.58</td>\n",
       "      <td>NaN</td>\n",
       "      <td>D</td>\n",
       "      <td>4.0</td>\n",
       "    </tr>\n",
       "    <tr>\n",
       "      <th>1</th>\n",
       "      <td>1991</td>\n",
       "      <td>3</td>\n",
       "      <td>16</td>\n",
       "      <td>1</td>\n",
       "      <td>80.0</td>\n",
       "      <td>143.88</td>\n",
       "      <td>41.00</td>\n",
       "      <td>NaN</td>\n",
       "      <td>D</td>\n",
       "      <td>5.0</td>\n",
       "    </tr>\n",
       "    <tr>\n",
       "      <th>2</th>\n",
       "      <td>1991</td>\n",
       "      <td>4</td>\n",
       "      <td>9</td>\n",
       "      <td>1</td>\n",
       "      <td>40.0</td>\n",
       "      <td>144.38</td>\n",
       "      <td>41.61</td>\n",
       "      <td>500.0</td>\n",
       "      <td>M</td>\n",
       "      <td>4.5</td>\n",
       "    </tr>\n",
       "    <tr>\n",
       "      <th>3</th>\n",
       "      <td>1987</td>\n",
       "      <td>2</td>\n",
       "      <td>7</td>\n",
       "      <td>1</td>\n",
       "      <td>20.0</td>\n",
       "      <td>143.96</td>\n",
       "      <td>41.10</td>\n",
       "      <td>548.0</td>\n",
       "      <td>D</td>\n",
       "      <td>3.5</td>\n",
       "    </tr>\n",
       "    <tr>\n",
       "      <th>4</th>\n",
       "      <td>1987</td>\n",
       "      <td>3</td>\n",
       "      <td>12</td>\n",
       "      <td>1</td>\n",
       "      <td>30.0</td>\n",
       "      <td>144.06</td>\n",
       "      <td>41.20</td>\n",
       "      <td>457.0</td>\n",
       "      <td>D</td>\n",
       "      <td>3.0</td>\n",
       "    </tr>\n",
       "  </tbody>\n",
       "</table>\n",
       "</div>"
      ],
      "text/plain": [
       "   Year  Month  Day  Vessel_ID  catch_kg    Long    Lat  Depth DayNight  \\\n",
       "0  1991      2   17          1      80.0  144.50  41.58    NaN        D   \n",
       "1  1991      3   16          1      80.0  143.88  41.00    NaN        D   \n",
       "2  1991      4    9          1      40.0  144.38  41.61  500.0        M   \n",
       "3  1987      2    7          1      20.0  143.96  41.10  548.0        D   \n",
       "4  1987      3   12          1      30.0  144.06  41.20  457.0        D   \n",
       "\n",
       "   Effort_hr  \n",
       "0        4.0  \n",
       "1        5.0  \n",
       "2        4.5  \n",
       "3        3.5  \n",
       "4        3.0  "
      ]
     },
     "execution_count": 3,
     "metadata": {},
     "output_type": "execute_result"
    }
   ],
   "source": [
    "data.head(5)"
   ]
  },
  {
   "cell_type": "code",
   "execution_count": 4,
   "metadata": {},
   "outputs": [
    {
     "name": "stdout",
     "output_type": "stream",
     "text": [
      "**** Number of numeric features = 9 ****\n",
      "\n",
      "Year           int64\n",
      "Month          int64\n",
      "Day            int64\n",
      "Vessel_ID      int64\n",
      "catch_kg     float64\n",
      "Long         float64\n",
      "Lat          float64\n",
      "Depth        float64\n",
      "Effort_hr    float64\n",
      "dtype: object\n",
      "\n",
      "**** Number of non-numeric features = 1 ****\n",
      "\n",
      "DayNight    object\n",
      "dtype: object\n"
     ]
    }
   ],
   "source": [
    "## Checking feature types\n",
    "def coltype(df):\n",
    "        datatype1 = df.select_dtypes(include = ['float64', 'int64']).dtypes\n",
    "        print('**** Number of numeric features = {} ****\\n'.format(datatype1.count()))\n",
    "        print(datatype1)\n",
    "    \n",
    "        datatype2 = df.select_dtypes(exclude = ['float64', 'int64']).dtypes\n",
    "        print('\\n**** Number of non-numeric features = {} ****\\n'.format(datatype2.count()))\n",
    "        print(datatype2)\n",
    "        \n",
    "coltype(data)"
   ]
  },
  {
   "cell_type": "code",
   "execution_count": 5,
   "metadata": {
    "scrolled": true
   },
   "outputs": [
    {
     "data": {
      "text/plain": [
       "Year            0\n",
       "Month           0\n",
       "Day             0\n",
       "Vessel_ID       0\n",
       "catch_kg        0\n",
       "Long            0\n",
       "Lat             0\n",
       "Depth         247\n",
       "DayNight        0\n",
       "Effort_hr    2738\n",
       "dtype: int64"
      ]
     },
     "execution_count": 5,
     "metadata": {},
     "output_type": "execute_result"
    }
   ],
   "source": [
    "#Gives the number of missing values in each column as isnull() \n",
    "data.apply(lambda x: sum(x.isnull()),axis=0) "
   ]
  },
  {
   "cell_type": "code",
   "execution_count": 6,
   "metadata": {},
   "outputs": [
    {
     "data": {
      "text/plain": [
       "(44925, 10)"
      ]
     },
     "execution_count": 6,
     "metadata": {},
     "output_type": "execute_result"
    }
   ],
   "source": [
    "## Removes rows with missing values    \n",
    "data = data[~pd.isnull(data).any(axis=1)]\n",
    "data.shape"
   ]
  },
  {
   "cell_type": "code",
   "execution_count": 7,
   "metadata": {},
   "outputs": [
    {
     "data": {
      "text/plain": [
       "Year         0\n",
       "Month        0\n",
       "Day          0\n",
       "Vessel_ID    0\n",
       "catch_kg     0\n",
       "Long         0\n",
       "Lat          0\n",
       "Depth        0\n",
       "DayNight     0\n",
       "Effort_hr    0\n",
       "dtype: int64"
      ]
     },
     "execution_count": 7,
     "metadata": {},
     "output_type": "execute_result"
    }
   ],
   "source": [
    "#Checking the number of missing values in each column again\n",
    "data.apply(lambda x: sum(x.isnull()),axis=0) "
   ]
  },
  {
   "cell_type": "code",
   "execution_count": 8,
   "metadata": {},
   "outputs": [
    {
     "data": {
      "text/plain": [
       "(44907, 10)"
      ]
     },
     "execution_count": 8,
     "metadata": {},
     "output_type": "execute_result"
    }
   ],
   "source": [
    "data = data[data.Effort_hr>0]\n",
    "data.shape"
   ]
  },
  {
   "cell_type": "code",
   "execution_count": 9,
   "metadata": {},
   "outputs": [
    {
     "data": {
      "text/html": [
       "<div>\n",
       "<table border=\"1\" class=\"dataframe\">\n",
       "  <thead>\n",
       "    <tr style=\"text-align: right;\">\n",
       "      <th></th>\n",
       "      <th>Year</th>\n",
       "      <th>Month</th>\n",
       "      <th>Day</th>\n",
       "      <th>Vessel_ID</th>\n",
       "      <th>catch_kg</th>\n",
       "      <th>Long</th>\n",
       "      <th>Lat</th>\n",
       "      <th>Depth</th>\n",
       "      <th>DayNight</th>\n",
       "      <th>Effort_hr</th>\n",
       "      <th>CPUE</th>\n",
       "    </tr>\n",
       "  </thead>\n",
       "  <tbody>\n",
       "    <tr>\n",
       "      <th>2</th>\n",
       "      <td>1991</td>\n",
       "      <td>4</td>\n",
       "      <td>9</td>\n",
       "      <td>1</td>\n",
       "      <td>40.0</td>\n",
       "      <td>144.38</td>\n",
       "      <td>41.61</td>\n",
       "      <td>500.0</td>\n",
       "      <td>M</td>\n",
       "      <td>4.5</td>\n",
       "      <td>8.888889</td>\n",
       "    </tr>\n",
       "    <tr>\n",
       "      <th>3</th>\n",
       "      <td>1987</td>\n",
       "      <td>2</td>\n",
       "      <td>7</td>\n",
       "      <td>1</td>\n",
       "      <td>20.0</td>\n",
       "      <td>143.96</td>\n",
       "      <td>41.10</td>\n",
       "      <td>548.0</td>\n",
       "      <td>D</td>\n",
       "      <td>3.5</td>\n",
       "      <td>5.714286</td>\n",
       "    </tr>\n",
       "    <tr>\n",
       "      <th>4</th>\n",
       "      <td>1987</td>\n",
       "      <td>3</td>\n",
       "      <td>12</td>\n",
       "      <td>1</td>\n",
       "      <td>30.0</td>\n",
       "      <td>144.06</td>\n",
       "      <td>41.20</td>\n",
       "      <td>457.0</td>\n",
       "      <td>D</td>\n",
       "      <td>3.0</td>\n",
       "      <td>10.000000</td>\n",
       "    </tr>\n",
       "    <tr>\n",
       "      <th>5</th>\n",
       "      <td>1987</td>\n",
       "      <td>4</td>\n",
       "      <td>21</td>\n",
       "      <td>1</td>\n",
       "      <td>30.0</td>\n",
       "      <td>143.86</td>\n",
       "      <td>41.03</td>\n",
       "      <td>475.0</td>\n",
       "      <td>D</td>\n",
       "      <td>3.1</td>\n",
       "      <td>9.677419</td>\n",
       "    </tr>\n",
       "    <tr>\n",
       "      <th>6</th>\n",
       "      <td>1987</td>\n",
       "      <td>4</td>\n",
       "      <td>22</td>\n",
       "      <td>1</td>\n",
       "      <td>60.0</td>\n",
       "      <td>143.76</td>\n",
       "      <td>40.90</td>\n",
       "      <td>420.0</td>\n",
       "      <td>D</td>\n",
       "      <td>2.5</td>\n",
       "      <td>24.000000</td>\n",
       "    </tr>\n",
       "    <tr>\n",
       "      <th>7</th>\n",
       "      <td>1987</td>\n",
       "      <td>4</td>\n",
       "      <td>22</td>\n",
       "      <td>1</td>\n",
       "      <td>75.0</td>\n",
       "      <td>143.88</td>\n",
       "      <td>40.98</td>\n",
       "      <td>439.0</td>\n",
       "      <td>D</td>\n",
       "      <td>2.1</td>\n",
       "      <td>35.714286</td>\n",
       "    </tr>\n",
       "    <tr>\n",
       "      <th>8</th>\n",
       "      <td>1987</td>\n",
       "      <td>4</td>\n",
       "      <td>22</td>\n",
       "      <td>1</td>\n",
       "      <td>50.0</td>\n",
       "      <td>143.76</td>\n",
       "      <td>40.93</td>\n",
       "      <td>457.0</td>\n",
       "      <td>D</td>\n",
       "      <td>2.1</td>\n",
       "      <td>23.809524</td>\n",
       "    </tr>\n",
       "    <tr>\n",
       "      <th>9</th>\n",
       "      <td>1987</td>\n",
       "      <td>4</td>\n",
       "      <td>23</td>\n",
       "      <td>1</td>\n",
       "      <td>30.0</td>\n",
       "      <td>144.08</td>\n",
       "      <td>41.20</td>\n",
       "      <td>512.0</td>\n",
       "      <td>M</td>\n",
       "      <td>2.5</td>\n",
       "      <td>12.000000</td>\n",
       "    </tr>\n",
       "    <tr>\n",
       "      <th>10</th>\n",
       "      <td>1987</td>\n",
       "      <td>4</td>\n",
       "      <td>23</td>\n",
       "      <td>1</td>\n",
       "      <td>105.0</td>\n",
       "      <td>143.95</td>\n",
       "      <td>41.08</td>\n",
       "      <td>475.0</td>\n",
       "      <td>M</td>\n",
       "      <td>2.0</td>\n",
       "      <td>52.500000</td>\n",
       "    </tr>\n",
       "    <tr>\n",
       "      <th>11</th>\n",
       "      <td>1987</td>\n",
       "      <td>4</td>\n",
       "      <td>25</td>\n",
       "      <td>1</td>\n",
       "      <td>130.0</td>\n",
       "      <td>143.70</td>\n",
       "      <td>40.91</td>\n",
       "      <td>475.0</td>\n",
       "      <td>D</td>\n",
       "      <td>3.0</td>\n",
       "      <td>43.333333</td>\n",
       "    </tr>\n",
       "  </tbody>\n",
       "</table>\n",
       "</div>"
      ],
      "text/plain": [
       "    Year  Month  Day  Vessel_ID  catch_kg    Long    Lat  Depth DayNight  \\\n",
       "2   1991      4    9          1      40.0  144.38  41.61  500.0        M   \n",
       "3   1987      2    7          1      20.0  143.96  41.10  548.0        D   \n",
       "4   1987      3   12          1      30.0  144.06  41.20  457.0        D   \n",
       "5   1987      4   21          1      30.0  143.86  41.03  475.0        D   \n",
       "6   1987      4   22          1      60.0  143.76  40.90  420.0        D   \n",
       "7   1987      4   22          1      75.0  143.88  40.98  439.0        D   \n",
       "8   1987      4   22          1      50.0  143.76  40.93  457.0        D   \n",
       "9   1987      4   23          1      30.0  144.08  41.20  512.0        M   \n",
       "10  1987      4   23          1     105.0  143.95  41.08  475.0        M   \n",
       "11  1987      4   25          1     130.0  143.70  40.91  475.0        D   \n",
       "\n",
       "    Effort_hr       CPUE  \n",
       "2         4.5   8.888889  \n",
       "3         3.5   5.714286  \n",
       "4         3.0  10.000000  \n",
       "5         3.1   9.677419  \n",
       "6         2.5  24.000000  \n",
       "7         2.1  35.714286  \n",
       "8         2.1  23.809524  \n",
       "9         2.5  12.000000  \n",
       "10        2.0  52.500000  \n",
       "11        3.0  43.333333  "
      ]
     },
     "execution_count": 9,
     "metadata": {},
     "output_type": "execute_result"
    }
   ],
   "source": [
    "# Calculating CPUE as given in the formula above\n",
    "data[\"CPUE\"] = data.catch_kg/data.Effort_hr\n",
    "data.head(10)"
   ]
  },
  {
   "cell_type": "code",
   "execution_count": 10,
   "metadata": {},
   "outputs": [
    {
     "data": {
      "image/png": "[encoded data removed]",
      "text/plain": [
       "<matplotlib.figure.Figure at 0x17c4ec7d6a0>"
      ]
     },
     "metadata": {},
     "output_type": "display_data"
    }
   ],
   "source": [
    "data = data[data.CPUE<10000]\n",
    "data = data[data.Depth<1200]\n",
    "data = data[data.Long>123]\n",
    "data = data[data.Effort_hr<22]\n",
    "data = data[data.catch_kg<7250]\n",
    "\n",
    "# define plot function, and in this function, we will calculate the skew of X and take the log1p of y\n",
    "def plot_outlier(x,y):    \n",
    "    fig,axs=plt.subplots(1,2,figsize=(8,3))\n",
    "    sns.boxplot(x,orient='v',ax=axs[0])\n",
    "    sns.regplot(x,y,fit_reg=False,ax=axs[1])\n",
    "    plt.tight_layout()\n",
    "    \n",
    "plot_outlier(data['Effort_hr'], data['catch_kg'])"
   ]
  },
  {
   "cell_type": "code",
   "execution_count": 11,
   "metadata": {
    "scrolled": true
   },
   "outputs": [
    {
     "data": {
      "image/png": "[encoded data removed]",
      "text/plain": [
       "<matplotlib.figure.Figure at 0x17c4eca2748>"
      ]
     },
     "metadata": {},
     "output_type": "display_data"
    }
   ],
   "source": [
    "fig,axs=plt.subplots(1,3,figsize=(12,3))\n",
    "sns.boxplot(data['Depth'],orient='v',ax=axs[0])\n",
    "sns.regplot(data['Long'],data['Depth'],fit_reg=False,ax=axs[1])\n",
    "sns.regplot(data['Lat'],data['Depth'],fit_reg=False,ax=axs[2])\n",
    "plt.xlim(30, 45) \n",
    "plt.tight_layout()"
   ]
  },
  {
   "cell_type": "code",
   "execution_count": 12,
   "metadata": {
    "collapsed": true,
    "scrolled": true
   },
   "outputs": [],
   "source": [
    "#import model libraries\n",
    "import xgboost as xgb\n",
    "from xgboost.sklearn import XGBRegressor\n",
    "from sklearn.ensemble import GradientBoostingRegressor\n",
    "from sklearn.preprocessing import StandardScaler \n",
    "#Import cross-validation pipeline\n",
    "from sklearn.pipeline import make_pipeline\n",
    "from sklearn.model_selection import train_test_split, GridSearchCV\n",
    "#Import evaluation metrics\n",
    "from sklearn.metrics import mean_squared_error, mean_absolute_error\n",
    "#Import module for saving scikit-learn models - Joblib is an alternative to Python's pickle package\n",
    "from sklearn.externals import joblib"
   ]
  },
  {
   "cell_type": "code",
   "execution_count": 13,
   "metadata": {
    "collapsed": true
   },
   "outputs": [],
   "source": [
    "#Separate target from training features: target (y) features & input (X) features\n",
    "Y = data.catch_kg\n",
    "X = data.drop(['Year', 'Day', 'catch_kg','CPUE', 'Vessel_ID'], axis=1)"
   ]
  },
  {
   "cell_type": "code",
   "execution_count": 14,
   "metadata": {
    "collapsed": true
   },
   "outputs": [],
   "source": [
    "CategLs = ['Month', 'DayNight'] # Categorical features  'Vessel_ID',\n",
    "for fea in X[CategLs]: # Loop through all columns in the dataframe\n",
    "    X[fea] = pd.Categorical(X[fea]).codes # Convert to categorical features"
   ]
  },
  {
   "cell_type": "code",
   "execution_count": 15,
   "metadata": {
    "collapsed": true
   },
   "outputs": [],
   "source": [
    "#Split data into train and test sets\n",
    "X_train, X_test, Y_train, Y_test = train_test_split(X, Y, test_size=0.2, random_state=123)"
   ]
  },
  {
   "cell_type": "code",
   "execution_count": 16,
   "metadata": {
    "collapsed": true
   },
   "outputs": [],
   "source": [
    "X_train_Cat = X_train[CategLs]\n",
    "X_test_Cat = X_test[CategLs]\n",
    "\n",
    "X_train_Num = X_train.drop(CategLs, axis=1)\n",
    "X_test_Num = X_test.drop(CategLs, axis=1)"
   ]
  },
  {
   "cell_type": "code",
   "execution_count": 17,
   "metadata": {
    "collapsed": true
   },
   "outputs": [],
   "source": [
    "scaler = StandardScaler() # create scaler object\n",
    "scaler.fit(X_train_Num) # fit with the training data ONLY\n",
    "X_train_Num = scaler.transform(X_train_Num) # sparse.csr_matrix(scaler.transform(X_train_Num)) # Transform the data and convert to sparse\n",
    "X_test_Num = scaler.transform(X_test_Num) # sparse.csr_matrix(scaler.transform(X_test_Num))"
   ]
  },
  {
   "cell_type": "code",
   "execution_count": 18,
   "metadata": {},
   "outputs": [
    {
     "data": {
      "text/html": [
       "<div>\n",
       "<table border=\"1\" class=\"dataframe\">\n",
       "  <thead>\n",
       "    <tr style=\"text-align: right;\">\n",
       "      <th></th>\n",
       "      <th>Month</th>\n",
       "      <th>DayNight</th>\n",
       "    </tr>\n",
       "  </thead>\n",
       "  <tbody>\n",
       "    <tr>\n",
       "      <th>0</th>\n",
       "      <td>5</td>\n",
       "      <td>1</td>\n",
       "    </tr>\n",
       "    <tr>\n",
       "      <th>1</th>\n",
       "      <td>10</td>\n",
       "      <td>0</td>\n",
       "    </tr>\n",
       "    <tr>\n",
       "      <th>2</th>\n",
       "      <td>4</td>\n",
       "      <td>1</td>\n",
       "    </tr>\n",
       "    <tr>\n",
       "      <th>3</th>\n",
       "      <td>11</td>\n",
       "      <td>0</td>\n",
       "    </tr>\n",
       "    <tr>\n",
       "      <th>4</th>\n",
       "      <td>9</td>\n",
       "      <td>0</td>\n",
       "    </tr>\n",
       "  </tbody>\n",
       "</table>\n",
       "</div>"
      ],
      "text/plain": [
       "   Month  DayNight\n",
       "0      5         1\n",
       "1     10         0\n",
       "2      4         1\n",
       "3     11         0\n",
       "4      9         0"
      ]
     },
     "execution_count": 18,
     "metadata": {},
     "output_type": "execute_result"
    }
   ],
   "source": [
    "X_train_Cat = X_train_Cat.reset_index(drop=True)\n",
    "X_test_Cat = X_test_Cat.reset_index(drop=True)\n",
    "X_train_Cat.head()"
   ]
  },
  {
   "cell_type": "code",
   "execution_count": 19,
   "metadata": {
    "collapsed": true
   },
   "outputs": [],
   "source": [
    "X_train_tot = pd.concat([pd.DataFrame(X_train_Num), X_train_Cat], axis=1)\n",
    "X_test_tot = pd.concat([pd.DataFrame(X_test_Num), X_test_Cat], axis=1)"
   ]
  },
  {
   "cell_type": "code",
   "execution_count": 20,
   "metadata": {},
   "outputs": [
    {
     "name": "stdout",
     "output_type": "stream",
     "text": [
      "Mean absolute error of SGD regression was:\n",
      "150.6393284\n",
      "Mean square error of SGD regression was:\n",
      "126878.400002\n"
     ]
    }
   ],
   "source": [
    "from sklearn.linear_model import SGDRegressor\n",
    "SGD_params = {'alpha': 10.0**-np.arange(1,7)} # Suggested range we try\n",
    "SGD_model = GridSearchCV(SGDRegressor(random_state = 0), SGD_params, scoring = 'neg_mean_absolute_error', cv = 5) # Use 5-fold CV \n",
    "SGD_model.fit(X_train_tot, Y_train) # Fit the model\n",
    "\n",
    "from sklearn.metrics import mean_absolute_error    \n",
    "print('Mean absolute error of SGD regression was:')\n",
    "print(mean_absolute_error(Y_test, SGD_model.predict(X_test_tot)))\n",
    "\n",
    "print('Mean square error of SGD regression was:')\n",
    "print(mean_squared_error(Y_test, SGD_model.predict(X_test_tot)))"
   ]
  },
  {
   "cell_type": "code",
   "execution_count": null,
   "metadata": {
    "collapsed": true
   },
   "outputs": [],
   "source": []
  },
  {
   "cell_type": "code",
   "execution_count": 21,
   "metadata": {},
   "outputs": [
    {
     "name": "stdout",
     "output_type": "stream",
     "text": [
      "MAE: 120.6737\n",
      "MSE: 92822.7462\n"
     ]
    }
   ],
   "source": [
    "import scipy.stats as st\n",
    "from sklearn.model_selection import RandomizedSearchCV\n",
    "\n",
    "one_to_left = st.beta(10, 1)  \n",
    "from_zero_positive = st.expon(0, 50)\n",
    "\n",
    "params = {  \n",
    "    \"n_estimators\": st.randint(3, 40),\n",
    "    \"max_depth\": st.randint(3, 40),\n",
    "    \"learning_rate\": st.uniform(0.05, 0.4),\n",
    "    \"colsample_bytree\": one_to_left,\n",
    "    \"subsample\": one_to_left,\n",
    "    \"gamma\": st.uniform(0, 10),\n",
    "    'reg_alpha': from_zero_positive,\n",
    "    \"min_child_weight\": from_zero_positive\n",
    "}\n",
    "\n",
    "xgbreg = XGBRegressor(nthread=-1)\n",
    "rsCV = RandomizedSearchCV(xgbreg, params, n_jobs=1)  \n",
    "rsCV.fit(X_train_tot, Y_train)\n",
    "rsCV.best_params_, rsCV.best_score_\n",
    "\n",
    "clf = XGBRegressor(**rsCV.best_params_)\n",
    "clf.fit(X_train_tot, Y_train)\n",
    "mae = mean_absolute_error(Y_test, clf.predict(X_test_tot))\n",
    "print(\"MAE: %.4f\" % mae)\n",
    "\n",
    "mse = mean_squared_error(Y_test, clf.predict(X_test_tot))\n",
    "print(\"MSE: %.4f\" % mse)"
   ]
  },
  {
   "cell_type": "code",
   "execution_count": null,
   "metadata": {
    "collapsed": true
   },
   "outputs": [],
   "source": []
  },
  {
   "cell_type": "code",
   "execution_count": 22,
   "metadata": {},
   "outputs": [
    {
     "name": "stderr",
     "output_type": "stream",
     "text": [
      "c:\\users\\adura\\anaconda3\\lib\\site-packages\\sklearn\\model_selection\\_search.py:667: DeprecationWarning: The grid_scores_ attribute was deprecated in version 0.18 in favor of the more elaborate cv_results_ attribute. The grid_scores_ attribute will not be available from 0.20\n",
      "  DeprecationWarning)\n"
     ]
    },
    {
     "name": "stdout",
     "output_type": "stream",
     "text": [
      "MAE: 127.7892\n",
      "MSE: 99891.8551\n"
     ]
    }
   ],
   "source": [
    "cv_params = {'max_depth':range(3,10,2), 'min_child_weight':range(1,6,2)}\n",
    "ind_params = {'learning_rate': 0.1, 'n_estimators': 1000, 'seed':0, 'subsample': 0.8, 'colsample_bytree': 0.8}\n",
    "gsCV = GridSearchCV(XGBRegressor(**ind_params, nthread=-1), cv_params, cv = 5, n_jobs = 1) \n",
    "gsCV.fit(X_train_tot, Y_train)  \n",
    "gsCV.grid_scores_, gsCV.best_params_, gsCV.best_score_\n",
    "\n",
    "clfgs = XGBRegressor(**gsCV.best_params_)\n",
    "clfgs.fit(X_train_tot, Y_train)\n",
    "mae = mean_absolute_error(Y_test, clfgs.predict(X_test_tot))\n",
    "print(\"MAE: %.4f\" % mae)\n",
    "\n",
    "mse = mean_squared_error(Y_test, clfgs.predict(X_test_tot))\n",
    "print(\"MSE: %.4f\" % mse)"
   ]
  },
  {
   "cell_type": "code",
   "execution_count": null,
   "metadata": {
    "collapsed": true
   },
   "outputs": [],
   "source": []
  },
  {
   "cell_type": "code",
   "execution_count": 23,
   "metadata": {
    "collapsed": true
   },
   "outputs": [],
   "source": [
    "def modelfit(alg,  x_train, x_test, y_train, y_test, performCV=True, printFeatureImportance=True, cv_folds=5):\n",
    "    alg.fit(x_train, y_train)        \n",
    "    dtrain_predictions = alg.predict(x_test)     #Predict training set    \n",
    "    #Perform cross-validation: 'mean_squared_error'\n",
    "    if performCV:\n",
    "        cv_score = cross_validation.cross_val_score(alg, x_train, y_train, cv=cv_folds, scoring='neg_mean_squared_error')\n",
    "    \n",
    "    #Print model report:\n",
    "    print (\"\\nModel Report\")\n",
    "    print (\"r2 : %.5g\" %  r2_score(y_test.values, dtrain_predictions))\n",
    "    print (\"MSE: %.5f\" % mean_squared_error(y_test, dtrain_predictions))\n",
    "    print (\"MAE: %.5f\" % mean_absolute_error(y_test, dtrain_predictions))\n",
    "  \n",
    "    if performCV:\n",
    "        print (\"CV Score : Mean = %.5g | Std = %.5g | Min = %.5g | Max = %.5g\" % (np.mean(cv_score),np.std(cv_score),np.min(cv_score),np.max(cv_score)))\n",
    "                \n",
    "    #Print Feature Importance:\n",
    "    if printFeatureImportance:\n",
    "        feat_imp = pd.Series(alg.feature_importances_, x_train.columns).sort_values(ascending=False)\n",
    "        feat_imp.plot(kind='barh', title='Feature Importances')\n",
    "        plt.ylabel('Feature Importance Score')"
   ]
  },
  {
   "cell_type": "code",
   "execution_count": 24,
   "metadata": {},
   "outputs": [
    {
     "ename": "TypeError",
     "evalue": "__init__() got an unexpected keyword argument 'random_state'",
     "output_type": "error",
     "traceback": [
      "\u001b[0;31m---------------------------------------------------------------------------\u001b[0m",
      "\u001b[0;31mTypeError\u001b[0m                                 Traceback (most recent call last)",
      "\u001b[0;32m<ipython-input-24-26d747d327dc>\u001b[0m in \u001b[0;36m<module>\u001b[0;34m()\u001b[0m\n\u001b[0;32m----> 1\u001b[0;31m \u001b[0mgbx\u001b[0m \u001b[1;33m=\u001b[0m \u001b[0mXGBRegressor\u001b[0m\u001b[1;33m(\u001b[0m\u001b[0mrandom_state\u001b[0m\u001b[1;33m=\u001b[0m\u001b[1;36m123\u001b[0m\u001b[1;33m)\u001b[0m\u001b[1;33m\u001b[0m\u001b[0m\n\u001b[0m\u001b[1;32m      2\u001b[0m \u001b[0mmodelfit\u001b[0m\u001b[1;33m(\u001b[0m\u001b[0mgbx\u001b[0m\u001b[1;33m,\u001b[0m \u001b[0mX_train\u001b[0m\u001b[1;33m,\u001b[0m \u001b[0mX_test\u001b[0m\u001b[1;33m,\u001b[0m \u001b[0mY_train\u001b[0m\u001b[1;33m,\u001b[0m \u001b[0mY_test\u001b[0m\u001b[1;33m)\u001b[0m\u001b[1;33m\u001b[0m\u001b[0m\n",
      "\u001b[0;31mTypeError\u001b[0m: __init__() got an unexpected keyword argument 'random_state'"
     ]
    }
   ],
   "source": [
    "gbx = XGBRegressor(random_state=123)\n",
    "modelfit(gbx, X_train, X_test, Y_train, Y_test)"
   ]
  },
  {
   "cell_type": "code",
   "execution_count": null,
   "metadata": {
    "collapsed": true
   },
   "outputs": [],
   "source": [
    "gbm0 = GradientBoostingRegressor(random_state=123)\n",
    "modelfit(gbm0, X_train, X_test, Y_train, Y_test)"
   ]
  },
  {
   "cell_type": "code",
   "execution_count": null,
   "metadata": {
    "collapsed": true
   },
   "outputs": [],
   "source": [
    "#Pipeline with preprocessing and model\n",
    "pipeline = make_pipeline(StandardScaler(),GradientBoostingRegressor(n_estimators=100))\n",
    "hyperparameters = {'gradientboostingregressor__max_features' : ['auto', 'log2'],\n",
    "                  'gradientboostingregressor__max_depth': [None, 7, 5]}"
   ]
  },
  {
   "cell_type": "code",
   "execution_count": null,
   "metadata": {
    "collapsed": true
   },
   "outputs": [],
   "source": [
    "# 7. Tune model using cross-validation pipeline\n",
    "gsearch = GridSearchCV(pipeline, hyperparameters, cv=5) \n",
    "gsearch.fit(X_train, Y_train)\n",
    "\n",
    "#Print best set of parameters found using CV:\n",
    "gsearch.grid_scores_, gsearch.best_params_, gsearch.best_score_\n",
    "\n",
    "# 8. Refit on the entire training set: No additional code needed if clf.refit == True (default is True)"
   ]
  },
  {
   "cell_type": "code",
   "execution_count": null,
   "metadata": {
    "collapsed": true
   },
   "outputs": [],
   "source": [
    "best_score = 0\n",
    "scaler = ['Normalizer()', 'MaxAbsScaler()', 'MinMaxScaler()', 'KernelCenterer()', 'StandardScaler()']\n",
    "for s in scaler:\n",
    "    if   s == 'Normalizer()': std_scale = preprocessing.Normalizer().fit(X_train) \n",
    "    elif s == 'MaxAbsScaler()': std_scale = preprocessing.MaxAbsScaler().fit(X_train)\n",
    "    elif s == 'MinMaxScaler()': std_scale = preprocessing.MinMaxScaler().fit(X_train)\n",
    "    elif s == 'KernelCenterer()': std_scale = preprocessing.KernelCenterer().fit(X_train)\n",
    "    else:                       std_scale = preprocessing.StandardScaler().fit(X_train) # s == 'StandardScaler()'\n",
    "    X_train = std_scale.transform(X_train)\n",
    "    X_test = std_scale.transform(X_test)\n",
    "\n",
    "    svc = SVC() # C=1.65, gamma=0.005\n",
    "    svc.fit(X_train, Y_train)\n",
    "    score = svc.score(X_test, Y_test)\n",
    "    if best_score < score: \n",
    "        best_score = score\n",
    "        print(\"High-Dimensionality Best Score = \" + str(best_score) + \" using \" + s)"
   ]
  }
 ],
 "metadata": {
  "anaconda-cloud": {},
  "kernelspec": {
   "display_name": "Python [default]",
   "language": "python",
   "name": "python3"
  },
  "language_info": {
   "codemirror_mode": {
    "name": "ipython",
    "version": 3
   },
   "file_extension": ".py",
   "mimetype": "text/x-python",
   "name": "python",
   "nbconvert_exporter": "python",
   "pygments_lexer": "ipython3",
   "version": "3.5.2"
  }
 },
 "nbformat": 4,
 "nbformat_minor": 1
}
